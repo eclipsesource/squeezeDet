{
 "nbformat": 4,
 "nbformat_minor": 2,
 "metadata": {
  "language_info": {
   "name": "python",
   "codemirror_mode": {
    "name": "ipython",
    "version": 3
   },
   "version": "3.7.5-final"
  },
  "orig_nbformat": 2,
  "file_extension": ".py",
  "mimetype": "text/x-python",
  "name": "python",
  "npconvert_exporter": "python",
  "pygments_lexer": "ipython3",
  "version": 3,
  "kernelspec": {
   "name": "python37564bitomrenvconda73fc3f4043d74335b549d5b027e208d7",
   "display_name": "Python 3.7.5 64-bit ('omr_env': conda)"
  }
 },
 "cells": [
  {
   "cell_type": "markdown",
   "metadata": {},
   "source": [
    "# Generate data with only checkbox region"
   ]
  },
  {
   "cell_type": "markdown",
   "metadata": {},
   "source": [
    "define parameters"
   ]
  },
  {
   "cell_type": "code",
   "execution_count": 7,
   "metadata": {},
   "outputs": [],
   "source": [
    "data_path = '../../../Documents/obj_samples/Linz/val/val_data'\n",
    "label_path = '../../../Documents/obj_samples/Linz/val/val_label'\n",
    "save_path = '../../../Documents/obj_samples/Linz/cropped_train_data_2'\n",
    "template_path = '../../../Documents/obj_samples/Linz/template_p2.png'\n",
    "cb_region_y = 40\n",
    "cb_region_x = 1084\n",
    "cb_region_w = 150\n",
    "cb_region_h = 1110"
   ]
  },
  {
   "cell_type": "markdown",
   "metadata": {},
   "source": [
    "* grab all image and label path as lists\n",
    "* create saving folder"
   ]
  },
  {
   "cell_type": "code",
   "execution_count": 8,
   "metadata": {},
   "outputs": [],
   "source": [
    "from pathlib import Path\n",
    "import cv2 as cv\n",
    "from os import makedirs\n",
    "\n",
    "image_path_list = list(Path(data_path).glob('*G'))\n",
    "label_path_list = list(Path(label_path).glob('*t'))\n",
    "makedirs(save_path, exist_ok=True)"
   ]
  },
  {
   "cell_type": "markdown",
   "metadata": {},
   "source": [
    "## Unwarp image, select checkbox region, change label coordinate accordingly\n",
    "* load image one by one\n",
    "* load according labels\n",
    "* do unwarpping\n",
    "* crop cb region\n",
    "* map label coordinate to new space\n",
    "* save to path"
   ]
  },
  {
   "cell_type": "code",
   "execution_count": 9,
   "metadata": {},
   "outputs": [],
   "source": [
    "def map_feature(image, template, ratio_thresh):\n",
    "    akaze = cv.AKAZE_create()\n",
    "    key_points, descriptors = akaze.detectAndCompute(template, None)\n",
    "    key_points2, descriptors2 = akaze.detectAndCompute(image, None)\n",
    "    matcher = cv.DescriptorMatcher_create(cv.DescriptorMatcher_BRUTEFORCE_HAMMING)\n",
    "    knn_matches = matcher.knnMatch(descriptors, descriptors2, 2)\n",
    "    good_matches = [m for m, n in knn_matches if m.distance < ratio_thresh * n.distance]\n",
    "    img_matches = np.empty((max(template.shape[0], image.shape[0]), template.shape[1]+image.shape[1], 3), dtype=np.uint8)\n",
    "    cv.drawMatches(template, key_points, image, key_points2, good_matches, img_matches, flags=cv.DrawMatchesFlags_NOT_DRAW_SINGLE_POINTS)\n",
    "    obj = np.empty((len(good_matches), 2), dtype=np.float32)\n",
    "    scene = np.empty((len(good_matches), 2), dtype=np.float32)\n",
    "    for i in range(len(good_matches)):\n",
    "        obj[i, 0] = key_points[good_matches[i].queryIdx].pt[0]\n",
    "        obj[i, 1] = key_points[good_matches[i].queryIdx].pt[1]\n",
    "        scene[i, 0] = key_points2[good_matches[i].trainIdx].pt[0]\n",
    "        scene[i, 1] = key_points2[good_matches[i].trainIdx].pt[1]\n",
    "    H, _ = cv.findHomography(scene, obj, cv.RANSAC)\n",
    "    return cv.warpPerspective(src=image, M=H, dsize=template.shape[1::-1]), H\n",
    "\n",
    "def warpPerspective_xy(H, x, y):\n",
    "    return (H[0,0]*x + H[0,1]*y + H[0,2]) / (H[2,0]*x + H[2,1]*y + H[2,2]), (H[1,0]*x + H[1,1]*y + H[1,2]) / (H[2,0]*x + H[2,1]*y + H[2,2])\n",
    "\n",
    "def map_coordinate_to_unwarpped_cb_region(x_min, y_min, x_max, y_max):\n",
    "    new_x_min, new_y_min = warpPerspective_xy(H, x_min, y_min)\n",
    "    new_x_max, new_y_max = warpPerspective_xy(H, x_max, y_max)\n",
    "    return max(new_x_min-cb_region_x, 0),  max(new_y_min-cb_region_y, 0), min(new_x_max-cb_region_x, cb_region_w), min(new_y_max-cb_region_y, cb_region_h)"
   ]
  },
  {
   "cell_type": "code",
   "execution_count": 10,
   "metadata": {},
   "outputs": [],
   "source": [
    "import csv\n",
    "import numpy as np\n",
    "template = cv.imread(template_path)\n",
    "for label_path in label_path_list:\n",
    "    image_path = Path(data_path).joinpath(label_path.name[:-4] + '.JPG')\n",
    "    image = cv.imread(str(image_path))\n",
    "    unwarpped_image, H = map_feature(image, template, .75)\n",
    "    with open(label_path) as fl:\n",
    "        lines = fl.readlines() \n",
    "        annotation_list = []\n",
    "        for line in lines:\n",
    "            obj = line.strip().split(' ')\n",
    "            x_min, y_min, x_max, y_max = map_coordinate_to_unwarpped_cb_region(*[float(coordinate) for coordinate in obj[4:8]])\n",
    "            annotation_list.append(['checkbox', 0, 0, 0, x_min, y_min, x_max, y_max, 0, 0, 0, 0, 0, 0, 0])\n",
    "    cropped = unwarpped_image[cb_region_y:cb_region_y+cb_region_h, cb_region_x:cb_region_x+cb_region_w, :]\n",
    "    cv.imwrite(str(Path(save_path).joinpath(image_path.name)), cropped)\n",
    "    with open(Path(save_path).joinpath(label_path.name), 'w') as fl:\n",
    "        csv.writer(fl,delimiter=\" \").writerows(annotation_list)"
   ]
  },
  {
   "cell_type": "markdown",
   "metadata": {},
   "source": [
    "## data augmentation"
   ]
  },
  {
   "cell_type": "code",
   "execution_count": 25,
   "metadata": {},
   "outputs": [],
   "source": [
    "import csv\n",
    "from os import makedirs\n",
    "from pathlib import Path, PurePosixPath\n",
    "from typing import List\n",
    "\n",
    "import imageio\n",
    "import imgaug as ia\n",
    "from absl import app, flags\n",
    "from cached_property import cached_property\n",
    "from imgaug import augmenters\n",
    "from imgaug.augmentables.bbs import BoundingBox, BoundingBoxesOnImage\n",
    "from nptyping import Array\n",
    "\n",
    "\n",
    "ia.seed(5)\n",
    "\n",
    "class ImageAug():\n",
    "    def __init__(self, base_path: str, augment_time: int, image_format: str):\n",
    "        self._save_path = Path(base_path).parent.joinpath('augmented')\n",
    "        base_path = Path(base_path)\n",
    "        self._image_path_list = list(base_path.glob('*{}'.format(image_format)))\n",
    "        self._label_path_list = list(base_path.glob('*txt'))\n",
    "        self._augment_time = augment_time\n",
    "        self._image_format = image_format\n",
    "        makedirs(str(self._save_path), exist_ok=True)\n",
    "\n",
    "    def augment_image_label(self):\n",
    "        for image_path in self._image_path_list:\n",
    "            image_name = image_path.name[:-4]\n",
    "            label_path = [label_path for label_path in self._label_path_list if image_name in str(label_path)]\n",
    "            assert len(label_path) is 1, 'Found more than one label file for image {}'.format(image_name)\n",
    "            for idx in range(self._augment_time):\n",
    "                image, label = self._get_image_label(image_path, label_path[0])\n",
    "                aug = self._aug_seq(image=image, bounding_boxes=label)\n",
    "                self._save_image_label(*aug, str(self._save_path)+'/{}_aug_{}'.format(image_name, str(idx)))\n",
    "\n",
    "    @cached_property\n",
    "    def _aug_seq(self):\n",
    "        return augmenters.Sequential([\n",
    "            augmenters.Sometimes(1, augmenters.Multiply((0.9, 1.1), per_channel=0.5)),\n",
    "            augmenters.Sometimes(1, augmenters.MotionBlur(k=15)),\n",
    "            augmenters.Affine(translate_percent={\"x\": (-0.02, 0.02), \"y\": (-0.02, 0.02)}, scale=(0.98, 1.02))\n",
    "                ], random_order=True)\n",
    "\n",
    "    def _get_image_label(self, image_path: str, label_path: str) -> [Array, List[BoundingBox]]:\n",
    "        image = imageio.imread(image_path)\n",
    "        with open(label_path) as f:\n",
    "            lines = f.readlines()\n",
    "        label_list_raw = [line.strip().split(' ') for line in lines]\n",
    "        coordinate_list = [list(map(float, label[4:8])) for label in label_list_raw]\n",
    "        class_list = [label[0] for label in label_list_raw]\n",
    "        boundingbox_list = [BoundingBox(*label[1], label=label[0]) for label in zip(class_list, coordinate_list)]\n",
    "        label = BoundingBoxesOnImage(boundingbox_list, shape=image.shape)\n",
    "        return image, label\n",
    "\n",
    "    def _save_image_label(self, image: Array, label: BoundingBoxesOnImage, save_path: str):\n",
    "        imageio.imwrite(save_path+'.JPG', image)\n",
    "        annotation = [[bbs.label, 0, 0, 0, bbs.x1, bbs.y1, bbs.x2, bbs.y2, 0, 0, 0, 0, 0, 0, 0] for bbs in label.bounding_boxes]\n",
    "        with open(save_path+'.txt', 'w') as fl:\n",
    "            csv.writer(fl,delimiter=\" \").writerows(annotation)\n"
   ]
  },
  {
   "cell_type": "code",
   "execution_count": 26,
   "metadata": {},
   "outputs": [],
   "source": [
    "base_dir = '../../../Documents/obj_samples/Linz/cropped_train_data'\n",
    "image_aug = ImageAug(base_dir, 5, 'JPG')\n",
    "image_aug.augment_image_label()"
   ]
  },
  {
   "cell_type": "markdown",
   "metadata": {},
   "source": [
    "make sure all augmented cb coordinates are larger than zero and within the boundary"
   ]
  },
  {
   "cell_type": "code",
   "execution_count": null,
   "metadata": {},
   "outputs": [],
   "source": [
    "save_path = Path(aug_save_dir).parent.joinpath('augmented')\n",
    "aug_label_path_list = save_path.glob('*txt')\n",
    "for aug_label_path in aug_label_path_list:\n",
    "    with open(label_path) as f:\n",
    "        lines = f.readlines()\n",
    "    coordinate_list = [line.strip().split(' ') for line in lines]\n",
    "    label_coordinate = [max(float(number), 0) for coordinate in coordinate_list for number in coordinate[4:8]]\n",
    "    coordinate_list = [[*label[:4], *label_coordinate[0:2], min(label_coordinate[2], cb_region_w), min(label_coordinate, cb_region_h), *label[8:]] for label in coordinate_list]"
   ]
  },
  {
   "cell_type": "markdown",
   "metadata": {},
   "source": [
    "## Visulization"
   ]
  },
  {
   "cell_type": "code",
   "execution_count": 29,
   "metadata": {},
   "outputs": [],
   "source": [
    "image_dir = '../../../Documents/obj_samples/Linz/cropped_train_data'\n",
    "image_path_list = list(Path(image_dir).glob('*G'))"
   ]
  },
  {
   "cell_type": "code",
   "execution_count": 49,
   "metadata": {},
   "outputs": [],
   "source": [
    "import cv2 as cv\n",
    "max_h=1110\n",
    "max_w=150\n",
    "for image_path in image_path_list:\n",
    "    image = cv.imread(str(image_path))\n",
    "    label_path = image_path.parent.joinpath(image_path.name[:-4] + '.txt')\n",
    "    with open(label_path) as f:\n",
    "        lines = f.readlines()\n",
    "    coordinate_list = [line.strip().split(' ') for line in lines]\n",
    "    for coordinate in coordinate_list:\n",
    "        x_min, y_min, x_max, y_max = [int(float(number)) for number in coordinate[4:8]]\n",
    "        image = cv.rectangle(img=image, pt1=(x_min, y_min), pt2=(x_max, y_max), color=(0, 0, 255), thickness=2)\n",
    "    image_save_path = Path('../../../Documents/obj_samples/Linz/cropped_train_data_viz').joinpath(image_path.name)\n",
    "    cv.imwrite(str(image_save_path), image)"
   ]
  },
  {
   "cell_type": "markdown",
   "metadata": {},
   "source": [
    "## Change label"
   ]
  },
  {
   "cell_type": "code",
   "execution_count": 39,
   "metadata": {},
   "outputs": [],
   "source": [
    "def save_label(label_path, label_list):\n",
    "    with open(label_path, 'w') as fl:\n",
    "        csv.writer(fl,delimiter=\" \").writerows(label_list)"
   ]
  },
  {
   "cell_type": "code",
   "execution_count": null,
   "metadata": {},
   "outputs": [],
   "source": [
    "offset_x, offset_y = 1090, 40\n",
    "label_path = '../../../Documents/obj_samples/Linz/cropped_train_data/IMG_1526.txt'\n",
    "image_path = Path('../../../Documents/obj_samples/Linz/cropped_train_data').joinpath(Path(label_path).name[:-4]+'.JPG')\n",
    "image = cv.imread(str(image_path))\n",
    "with open(label_path) as f:\n",
    "    lines = f.readlines()\n",
    "coordinate_list = [line.strip().split(' ') for line in lines]\n",
    "coordinate_list = [[*label[:4],\\\n",
    "                    max(float(label[4])-offset_x, 0),\\\n",
    "                    max(float(label[5])-offset_y, 0),\\\n",
    "                    min(float(label[6])-offset_x, cb_region_w),\\\n",
    "                    min(float(label[7])-offset_y, cb_region_h),\\\n",
    "                    *label[8:]] for label in coordinate_list]\n",
    "for coordinate in coordinate_list:\n",
    "    image = cv.rectangle(img=image, pt1=(int(coordinate[4]), int(coordinate[5])), pt2=(int(coordinate[6]), int(coordinate[7])), color=(0, 0, 255), thickness=2)\n",
    "cv.imwrite(str(Path('../../../Documents/obj_samples/Linz/cropped_train_data_viz').joinpath(Path(label_path).name[:-4]+'.JPG')), image)\n",
    "#save_label(label_path, coordinate_list)"
   ]
  },
  {
   "cell_type": "code",
   "execution_count": null,
   "metadata": {},
   "outputs": [],
   "source": []
  }
 ]
}