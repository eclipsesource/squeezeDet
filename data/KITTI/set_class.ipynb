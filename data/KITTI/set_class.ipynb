{
 "nbformat": 4,
 "nbformat_minor": 2,
 "metadata": {
  "language_info": {
   "name": "python",
   "codemirror_mode": {
    "name": "ipython",
    "version": 3
   },
   "version": "3.6.10-final"
  },
  "orig_nbformat": 2,
  "file_extension": ".py",
  "mimetype": "text/x-python",
  "name": "python",
  "npconvert_exporter": "python",
  "pygments_lexer": "ipython3",
  "version": 3,
  "kernelspec": {
   "name": "python3",
   "display_name": "Python 3"
  }
 },
 "cells": [
  {
   "cell_type": "code",
   "execution_count": 4,
   "metadata": {},
   "outputs": [],
   "source": [
    "old_dir = './training_augmented_full_images/label'\n",
    "new_dir = './training/label'"
   ]
  },
  {
   "cell_type": "code",
   "execution_count": 5,
   "metadata": {},
   "outputs": [],
   "source": [
    "from pathlib import Path\n",
    "\n",
    "new_path_list = list(Path(new_dir).glob('*txt'))\n"
   ]
  },
  {
   "cell_type": "code",
   "execution_count": 6,
   "metadata": {},
   "outputs": [],
   "source": [
    "import csv\n",
    "\n",
    "for new_path in new_path_list:\n",
    "    old_path = Path(old_dir).joinpath(new_path.name)\n",
    "    with open(old_path) as f:\n",
    "        lines = f.readlines()\n",
    "    old_coordinate_list = [line.strip().split(' ') for line in lines]\n",
    "    with open(new_path) as f:\n",
    "        lines = f.readlines()\n",
    "    new_coordinate_list = [line.strip().split(' ') for line in lines]\n",
    "    for idx in range(len(new_coordinate_list)):\n",
    "        new_coordinate_list[idx][0] = old_coordinate_list[idx][0]\n",
    "    with open(new_path, 'w') as fl:\n",
    "        csv.writer(fl,delimiter=\" \").writerows(new_coordinate_list)\n"
   ]
  },
  {
   "cell_type": "code",
   "execution_count": null,
   "metadata": {},
   "outputs": [],
   "source": []
  }
 ]
}